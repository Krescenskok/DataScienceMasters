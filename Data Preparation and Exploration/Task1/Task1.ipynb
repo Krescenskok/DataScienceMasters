{
 "cells": [
  {
   "cell_type": "code",
   "execution_count": 43,
   "id": "2f4108d9-f8f5-4b3b-be6e-f833f0ef7f30",
   "metadata": {},
   "outputs": [],
   "source": [
    "import pandas as pd\n",
    "import matplotlib.pyplot as plt"
   ]
  },
  {
   "cell_type": "code",
   "execution_count": 44,
   "id": "1d9f34bb-a36c-4862-9565-740e33e2fb9f",
   "metadata": {},
   "outputs": [
    {
     "name": "stdout",
     "output_type": "stream",
     "text": [
      "3.13.5 | packaged by Anaconda, Inc. | (main, Jun 12 2025, 11:23:37) [Clang 14.0.6 ]\n"
     ]
    }
   ],
   "source": [
    "# Python version\n",
    "import sys\n",
    "print(sys.version)"
   ]
  },
  {
   "cell_type": "code",
   "execution_count": 45,
   "id": "f525a4be-e3b4-43f9-9409-96058365b64d",
   "metadata": {},
   "outputs": [
    {
     "name": "stdout",
     "output_type": "stream",
     "text": [
      "/Users/krescenskok/anaconda_projects/Task1\n"
     ]
    }
   ],
   "source": [
    "import os\n",
    "print(os.getcwd())"
   ]
  },
  {
   "cell_type": "markdown",
   "id": "330c22d3-ea41-4d92-a1ad-03844153e454",
   "metadata": {},
   "source": [
    "## Data Profiling"
   ]
  },
  {
   "cell_type": "code",
   "execution_count": 46,
   "id": "d8f4d1d4-69e4-4339-955d-318222b2e8b5",
   "metadata": {},
   "outputs": [
    {
     "name": "stdout",
     "output_type": "stream",
     "text": [
      "10199\n"
     ]
    }
   ],
   "source": [
    "# import the file\n",
    "\n",
    "file_name = \"Employee Turnover Dataset.csv\"\n",
    "\n",
    "df = pd.read_csv(file_name)\n",
    "\n",
    "# Print out the number of rows\n",
    "print(df.shape[0])"
   ]
  },
  {
   "cell_type": "code",
   "execution_count": 47,
   "id": "d2097833-db40-4a01-ab77-c56a3b3ad55c",
   "metadata": {},
   "outputs": [
    {
     "name": "stdout",
     "output_type": "stream",
     "text": [
      "<class 'pandas.core.frame.DataFrame'>\n",
      "RangeIndex: 10199 entries, 0 to 10198\n",
      "Data columns (total 16 columns):\n",
      " #   Column                        Non-Null Count  Dtype  \n",
      "---  ------                        --------------  -----  \n",
      " 0   EmployeeNumber                10199 non-null  int64  \n",
      " 1   Age                           10199 non-null  int64  \n",
      " 2   Tenure                        10199 non-null  int64  \n",
      " 3   Turnover                      10199 non-null  object \n",
      " 4   HourlyRate                    10199 non-null  object \n",
      " 5   HoursWeekly                   10199 non-null  int64  \n",
      " 6   CompensationType              10199 non-null  object \n",
      " 7   AnnualSalary                  10199 non-null  float64\n",
      " 8   DrivingCommuterDistance       10199 non-null  int64  \n",
      " 9   JobRoleArea                   10199 non-null  object \n",
      " 10  Gender                        10199 non-null  object \n",
      " 11  MaritalStatus                 10199 non-null  object \n",
      " 12  NumCompaniesPreviouslyWorked  9534 non-null   float64\n",
      " 13  AnnualProfessionalDevHrs      8230 non-null   float64\n",
      " 14  PaycheckMethod                10199 non-null  object \n",
      " 15  TextMessageOptIn              7933 non-null   object \n",
      "dtypes: float64(3), int64(5), object(8)\n",
      "memory usage: 1.2+ MB\n"
     ]
    }
   ],
   "source": [
    "df.info()"
   ]
  },
  {
   "cell_type": "code",
   "execution_count": 48,
   "id": "2a7f201a-044c-4233-b63d-a7e0c7b789db",
   "metadata": {},
   "outputs": [
    {
     "name": "stdout",
     "output_type": "stream",
     "text": [
      "EmployeeNumber\n",
      "[    1     2     3 ... 10098 10099 10100]\n",
      "\n",
      "Age\n",
      "[28 33 22 23 40 45 34 37 24 30 38 47 55 59 29 35 44 54 36 32 41 56 21 27\n",
      " 50 31 46 48 39 57 52 53 58 49 42 60 43 61 26 51 25]\n",
      "\n",
      "Tenure\n",
      "[ 6  2  1 16  9  3  8  4 20 10  7 15  5 18 17 14 13 19 12 11]\n",
      "\n",
      "Turnover\n",
      "['Yes' 'No']\n",
      "\n",
      "HourlyRate \n",
      "['$24.37 ' '$22.52 ' '$88.77 ' ... '$30.86 ' '$95.07 ' '$93.05 ']\n",
      "\n",
      "HoursWeekly\n",
      "[40]\n",
      "\n",
      "CompensationType\n",
      "['Salary']\n",
      "\n",
      "AnnualSalary\n",
      "[ 50689.6  46841.6 284641.6 ... 337745.6 164902.4 333544. ]\n",
      "\n",
      "DrivingCommuterDistance\n",
      "[  89   35   12    0   76   15    2   36   60   14   75    5  910   28\n",
      "   -4   33   79   50   13   57   82    4   42   -5   64   -8   77    1\n",
      "   24   67   41   62   47   -7   31   32   56   22   51   58   34   37\n",
      "   16   26   74  -10   -2   84   44   61   87   46   52   73   53   85\n",
      "   66   80   55  950   70   17  250  -12   43   49   81   86   -3   48\n",
      "   45   68   10    7   20   38   21  -11   65   78   69   -6   25   54\n",
      "    8   83   27    9   -9  -14  -13   39   40   29   71   30   -1    3\n",
      "  -15   63   72  125   88   59   11    6   23 -125 -275  322   99   91\n",
      "   94   97   93   92   90   96   95   98]\n",
      "\n",
      "JobRoleArea\n",
      "['Research' 'Information_Technology' 'Sales' 'Human_Resources'\n",
      " 'Laboratory' 'Manufacturing' 'Healthcare' 'Marketing'\n",
      " 'InformationTechnology' 'HumanResources' 'Information Technology'\n",
      " 'Human Resources']\n",
      "\n",
      "Gender\n",
      "['Female' 'Prefer Not to Answer' 'Male']\n",
      "\n",
      "MaritalStatus\n",
      "['Married' 'Single' 'Divorced']\n",
      "\n",
      "NumCompaniesPreviouslyWorked\n",
      "[ 3.  6.  1.  7. nan  2.  5.  4.  8.  9.]\n",
      "\n",
      "AnnualProfessionalDevHrs\n",
      "[ 7.  8. nan 19. 23. 25.  9.  6.  5. 15. 16. 24. 10. 18. 11. 20. 17. 21.\n",
      " 12. 22. 14. 13.]\n",
      "\n",
      "PaycheckMethod\n",
      "['Mail Check' 'Mailed Check' 'Direct_Deposit' 'DirectDeposit'\n",
      " 'Direct Deposit' 'Mail_Check' 'MailedCheck']\n",
      "\n",
      "TextMessageOptIn\n",
      "['Yes' nan 'No']\n",
      "\n"
     ]
    }
   ],
   "source": [
    "for i in df.columns:\n",
    "    print(i)\n",
    "    # print(df[i])\n",
    "    print(df[i].unique())\n",
    "    print(\"\")"
   ]
  },
  {
   "cell_type": "code",
   "execution_count": 49,
   "id": "34b9548c-7ce2-4e98-a871-ba4a4f9f263d",
   "metadata": {},
   "outputs": [],
   "source": [
    "# Removes leading/trailing spaces\n",
    "df.columns = df.columns.str.strip() \n",
    "# Remove dollar signs and spaces before converting to numeric\n",
    "df[\"HourlyRate\"] = df[\"HourlyRate\"].str.replace('$', '').str.strip()\n",
    "df[\"HourlyRate\"] = pd.to_numeric(df[\"HourlyRate\"])"
   ]
  },
  {
   "cell_type": "markdown",
   "id": "53098d87-4485-4e50-891a-b664c26d1cdc",
   "metadata": {},
   "source": [
    "## Data Cleaning and Plan"
   ]
  },
  {
   "cell_type": "markdown",
   "id": "55ad4904-bf6a-4c69-b76b-91859d9df955",
   "metadata": {},
   "source": [
    "#### Identify duplicate records"
   ]
  },
  {
   "cell_type": "code",
   "execution_count": 50,
   "id": "0c58166d-c755-475f-9398-75b4906d65c4",
   "metadata": {},
   "outputs": [
    {
     "name": "stdout",
     "output_type": "stream",
     "text": [
      "99\n"
     ]
    }
   ],
   "source": [
    "duplicate_count = df.duplicated().sum()\n",
    "print(duplicate_count)"
   ]
  },
  {
   "cell_type": "markdown",
   "id": "23042422-ebad-41b8-9245-bfdc77cdbea3",
   "metadata": {},
   "source": [
    "#### Identify Missing Values"
   ]
  },
  {
   "cell_type": "code",
   "execution_count": 51,
   "id": "191a8e7c-44d0-4dd5-8777-1f22a70285e8",
   "metadata": {},
   "outputs": [
    {
     "name": "stdout",
     "output_type": "stream",
     "text": [
      "EmployeeNumber                     0\n",
      "Age                                0\n",
      "Tenure                             0\n",
      "Turnover                           0\n",
      "HourlyRate                         0\n",
      "HoursWeekly                        0\n",
      "CompensationType                   0\n",
      "AnnualSalary                       0\n",
      "DrivingCommuterDistance            0\n",
      "JobRoleArea                        0\n",
      "Gender                             0\n",
      "MaritalStatus                      0\n",
      "NumCompaniesPreviouslyWorked     665\n",
      "AnnualProfessionalDevHrs        1969\n",
      "PaycheckMethod                     0\n",
      "TextMessageOptIn                2266\n",
      "dtype: int64\n"
     ]
    }
   ],
   "source": [
    "print(df.isnull().sum())"
   ]
  },
  {
   "cell_type": "markdown",
   "id": "bb0c15d6-2e4a-4dad-b68a-01d44d111809",
   "metadata": {},
   "source": [
    "#### Identify Inconsistent Entries and Formatting Errors\n",
    "- Looking at the histograms, it reveals columns that contain negative values when it doesn't make sense"
   ]
  },
  {
   "cell_type": "code",
   "execution_count": 10,
   "id": "8a968ce0-6946-4e78-8e9a-e3154a936f0e",
   "metadata": {},
   "outputs": [
    {
     "data": {
      "image/png": "[encoded data removed]",
      "text/plain": [
       "<Figure size 1200x1000 with 9 Axes>"
      ]
     },
     "metadata": {},
     "output_type": "display_data"
    }
   ],
   "source": [
    "# Create historgrams\n",
    "axes = df.select_dtypes('number').hist(figsize=(12, 10), bins=30)"
   ]
  },
  {
   "cell_type": "code",
   "execution_count": 52,
   "id": "595da4e1-c996-4be8-b100-c4f4bdf48917",
   "metadata": {},
   "outputs": [
    {
     "data": {
      "text/plain": [
       "Turnover\n",
       "No     5509\n",
       "Yes    4690\n",
       "Name: count, dtype: int64"
      ]
     },
     "execution_count": 52,
     "metadata": {},
     "output_type": "execute_result"
    }
   ],
   "source": [
    "df['Turnover'].value_counts()"
   ]
  },
  {
   "cell_type": "markdown",
   "id": "afeb0704-4af5-4363-9f9a-521710167fd9",
   "metadata": {},
   "source": [
    "Inconsistent entries for the category names"
   ]
  },
  {
   "cell_type": "code",
   "execution_count": 53,
   "id": "5d945764-ca9c-4b5a-afcb-2cc3875d0033",
   "metadata": {},
   "outputs": [
    {
     "data": {
      "text/plain": [
       "JobRoleArea\n",
       "Research                  2025\n",
       "Sales                     2007\n",
       "Marketing                 1105\n",
       "Manufacturing             1039\n",
       "Laboratory                1021\n",
       "Healthcare                1008\n",
       "Human Resources            909\n",
       "Information Technology     857\n",
       "InformationTechnology       80\n",
       "Information_Technology      56\n",
       "HumanResources              51\n",
       "Human_Resources             41\n",
       "Name: count, dtype: int64"
      ]
     },
     "execution_count": 53,
     "metadata": {},
     "output_type": "execute_result"
    }
   ],
   "source": [
    "df['JobRoleArea'].value_counts()"
   ]
  },
  {
   "cell_type": "code",
   "execution_count": 54,
   "id": "f1506ab4-7c79-49c3-8916-315e0f394178",
   "metadata": {},
   "outputs": [
    {
     "data": {
      "text/plain": [
       "Gender\n",
       "Female                  5812\n",
       "Male                    4232\n",
       "Prefer Not to Answer     155\n",
       "Name: count, dtype: int64"
      ]
     },
     "execution_count": 54,
     "metadata": {},
     "output_type": "execute_result"
    }
   ],
   "source": [
    "df['Gender'].value_counts()"
   ]
  },
  {
   "cell_type": "code",
   "execution_count": 55,
   "id": "5b30408b-791f-44bb-b7fb-50cd295301a6",
   "metadata": {},
   "outputs": [
    {
     "data": {
      "text/plain": [
       "MaritalStatus\n",
       "Married     3439\n",
       "Single      3422\n",
       "Divorced    3338\n",
       "Name: count, dtype: int64"
      ]
     },
     "execution_count": 55,
     "metadata": {},
     "output_type": "execute_result"
    }
   ],
   "source": [
    "df['MaritalStatus'].value_counts()"
   ]
  },
  {
   "cell_type": "markdown",
   "id": "8c31f0ba-7667-4200-bf63-afebddd1ce58",
   "metadata": {},
   "source": [
    "Inconsistent entries for the category names"
   ]
  },
  {
   "cell_type": "code",
   "execution_count": 56,
   "id": "b9957922-25d5-4aca-bcb0-bc3287c86d87",
   "metadata": {},
   "outputs": [
    {
     "data": {
      "text/plain": [
       "PaycheckMethod\n",
       "Mail Check        4986\n",
       "Mailed Check      2441\n",
       "DirectDeposit      992\n",
       "Direct_Deposit     958\n",
       "Mail_Check         547\n",
       "Direct Deposit     226\n",
       "MailedCheck         49\n",
       "Name: count, dtype: int64"
      ]
     },
     "execution_count": 56,
     "metadata": {},
     "output_type": "execute_result"
    }
   ],
   "source": [
    "df['PaycheckMethod'].value_counts()"
   ]
  },
  {
   "cell_type": "code",
   "execution_count": 57,
   "id": "55e7b632-6f3b-4ad5-afc2-7b14a4aba5f5",
   "metadata": {},
   "outputs": [
    {
     "data": {
      "text/plain": [
       "TextMessageOptIn\n",
       "Yes    7390\n",
       "No      543\n",
       "Name: count, dtype: int64"
      ]
     },
     "execution_count": 57,
     "metadata": {},
     "output_type": "execute_result"
    }
   ],
   "source": [
    "df['TextMessageOptIn'].value_counts()"
   ]
  },
  {
   "cell_type": "markdown",
   "id": "1e74da7c-b7f5-4e3a-b68b-00c061f55422",
   "metadata": {},
   "source": [
    "Formatting errors where the calculation based on the data dictionary is off for quite a few records"
   ]
  },
  {
   "cell_type": "code",
   "execution_count": 58,
   "id": "502e6bf1-d6ab-4e18-8273-fabcbe3aa5e6",
   "metadata": {},
   "outputs": [
    {
     "name": "stdout",
     "output_type": "stream",
     "text": [
      "2149\n",
      "       AnnualSalary  totalAmount\n",
      "4          284641.6     184641.6\n",
      "5          284641.6     184641.6\n",
      "16         284080.0     184080.0\n",
      "17         284080.0     184080.0\n",
      "22         281417.6     181417.6\n",
      "...             ...          ...\n",
      "10180      285764.8     185764.8\n",
      "10181      285764.8     185764.8\n",
      "10182      283601.6     183601.6\n",
      "10183      283601.6     183601.6\n",
      "10198      148075.2     148366.4\n",
      "\n",
      "[2149 rows x 2 columns]\n"
     ]
    }
   ],
   "source": [
    "df['totalAmount'] = df['HourlyRate'] * df['HoursWeekly'] * 52\n",
    "\n",
    "mask = df['AnnualSalary'] != round(df['totalAmount'], 2)\n",
    "\n",
    "print(len(df[mask]))\n",
    "print(df.loc[mask, ['AnnualSalary', 'totalAmount']])\n",
    "\n",
    "# drop 'totalAmount' column\n",
    "df = df.drop(columns = ['totalAmount'])"
   ]
  },
  {
   "cell_type": "markdown",
   "id": "45617b99-d459-413b-b880-1412e3d0ad3a",
   "metadata": {},
   "source": [
    "#### Identify Outliers"
   ]
  },
  {
   "cell_type": "code",
   "execution_count": 59,
   "id": "9c7feba0-4d68-4763-a089-1c508a36efa4",
   "metadata": {},
   "outputs": [
    {
     "data": {
      "image/png": "[encoded data removed]",
      "text/plain": [
       "<Figure size 1200x1000 with 16 Axes>"
      ]
     },
     "metadata": {},
     "output_type": "display_data"
    }
   ],
   "source": [
    "numeric_cols = df.select_dtypes(include='number')\n",
    "\n",
    "# Create boxplots\n",
    "numeric_cols.plot(kind='box', subplots=True, layout=(4, 4), figsize=(12, 10), sharex=False, sharey=False)\n",
    "plt.tight_layout()\n",
    "plt.show()"
   ]
  },
  {
   "cell_type": "code",
   "execution_count": 60,
   "id": "cb8bd830-0bb0-470d-be37-737cf015f091",
   "metadata": {},
   "outputs": [
    {
     "data": {
      "text/plain": [
       "(0.0, 350000.0)"
      ]
     },
     "execution_count": 60,
     "metadata": {},
     "output_type": "execute_result"
    },
    {
     "data": {
      "image/png": "[encoded data removed]",
      "text/plain": [
       "<Figure size 640x480 with 1 Axes>"
      ]
     },
     "metadata": {},
     "output_type": "display_data"
    }
   ],
   "source": [
    "df['AnnualSalary'].hist()\n",
    "plt.xlim(0,350000)"
   ]
  },
  {
   "cell_type": "code",
   "execution_count": 20,
   "id": "8c9a146a-b7e1-4dc6-b6e7-44976701c3f3",
   "metadata": {},
   "outputs": [
    {
     "name": "stdout",
     "output_type": "stream",
     "text": [
      "       EmployeeNumber  Age  Tenure Turnover  HourlyRate  HoursWeekly  \\\n",
      "166               167   41       3       No       91.85           40   \n",
      "167               168   58      16       No       91.85           40   \n",
      "203               204   41       2       No       94.94           40   \n",
      "206               207   49       7       No       95.60           40   \n",
      "222               223   54      11       No       91.54           40   \n",
      "...               ...  ...     ...      ...         ...          ...   \n",
      "10029           10030   44       5       No       92.48           40   \n",
      "10037           10038   56      16      Yes       91.96           40   \n",
      "10075           10076   44      13       No       92.61           40   \n",
      "10087           10088   47      17      Yes       95.07           40   \n",
      "10094           10095   38       9       No       93.05           40   \n",
      "\n",
      "      CompensationType  AnnualSalary  DrivingCommuterDistance  \\\n",
      "166             Salary      331048.0                       -5   \n",
      "167             Salary      331048.0                       -5   \n",
      "203             Salary      337475.2                       15   \n",
      "206             Salary      338848.0                      -12   \n",
      "222             Salary      330403.2                       52   \n",
      "...                ...           ...                      ...   \n",
      "10029           Salary      332358.4                       -7   \n",
      "10037           Salary      331276.8                       38   \n",
      "10075           Salary      332628.8                       48   \n",
      "10087           Salary      337745.6                       23   \n",
      "10094           Salary      333544.0                       76   \n",
      "\n",
      "           JobRoleArea                Gender MaritalStatus  \\\n",
      "166              Sales                Female       Married   \n",
      "167              Sales                Female       Married   \n",
      "203    Human_Resources                Female        Single   \n",
      "206           Research                  Male       Married   \n",
      "222              Sales                  Male        Single   \n",
      "...                ...                   ...           ...   \n",
      "10029        Marketing                Female        Single   \n",
      "10037         Research  Prefer Not to Answer       Married   \n",
      "10075       Healthcare                Female      Divorced   \n",
      "10087            Sales                Female        Single   \n",
      "10094        Marketing                Female       Married   \n",
      "\n",
      "       NumCompaniesPreviouslyWorked  AnnualProfessionalDevHrs PaycheckMethod  \\\n",
      "166                             6.0                      25.0     Mail Check   \n",
      "167                             2.0                       NaN     Mail Check   \n",
      "203                             6.0                      16.0  DirectDeposit   \n",
      "206                             2.0                       NaN   Mailed Check   \n",
      "222                             1.0                       9.0   Mailed Check   \n",
      "...                             ...                       ...            ...   \n",
      "10029                           5.0                       NaN     Mail Check   \n",
      "10037                           NaN                       5.0     Mail Check   \n",
      "10075                           5.0                      21.0     Mail Check   \n",
      "10087                           5.0                       9.0   Mailed Check   \n",
      "10094                           4.0                       7.0  DirectDeposit   \n",
      "\n",
      "      TextMessageOptIn  \n",
      "166                Yes  \n",
      "167                Yes  \n",
      "203                Yes  \n",
      "206                Yes  \n",
      "222                 No  \n",
      "...                ...  \n",
      "10029              NaN  \n",
      "10037              Yes  \n",
      "10075              Yes  \n",
      "10087              NaN  \n",
      "10094              Yes  \n",
      "\n",
      "[531 rows x 16 columns]\n"
     ]
    }
   ],
   "source": [
    "filtered_df = df[df['AnnualSalary'] > 300000]\n",
    "print(filtered_df)"
   ]
  },
  {
   "cell_type": "code",
   "execution_count": 61,
   "id": "50196019-b807-49dd-9b98-92c6d1d7f707",
   "metadata": {},
   "outputs": [
    {
     "data": {
      "text/plain": [
       "(0.0, 1000.0)"
      ]
     },
     "execution_count": 61,
     "metadata": {},
     "output_type": "execute_result"
    },
    {
     "data": {
      "image/png": "[encoded data removed]",
      "text/plain": [
       "<Figure size 640x480 with 1 Axes>"
      ]
     },
     "metadata": {},
     "output_type": "display_data"
    }
   ],
   "source": [
    "df['DrivingCommuterDistance'].hist()\n",
    "plt.xlim(0, 1000) \n",
    "plt.ylim(0, 1000) "
   ]
  },
  {
   "cell_type": "markdown",
   "id": "512296f1-fab0-4890-b568-8bf67a8d5ff3",
   "metadata": {},
   "source": [
    "## Correct Data Quality Issues"
   ]
  },
  {
   "cell_type": "markdown",
   "id": "049f5698-b53a-4ff4-a96e-1eee4d87311a",
   "metadata": {},
   "source": [
    "#### Handle duplicated rows"
   ]
  },
  {
   "cell_type": "code",
   "execution_count": 62,
   "id": "471d7daf-cd19-4977-be5c-8e5638acb863",
   "metadata": {},
   "outputs": [
    {
     "data": {
      "text/plain": [
       "10100"
      ]
     },
     "execution_count": 62,
     "metadata": {},
     "output_type": "execute_result"
    }
   ],
   "source": [
    "df = df.drop_duplicates()\n",
    "len(df)"
   ]
  },
  {
   "cell_type": "markdown",
   "id": "735f46f2-fac6-4824-b89a-b786178fa549",
   "metadata": {},
   "source": [
    "### Handle null values\n",
    "- Notice how there are no values of '0' for this column\n",
    "- By default, I am assuming that a null value means that the employee did not work at any previous companies"
   ]
  },
  {
   "cell_type": "code",
   "execution_count": 63,
   "id": "28cd6d6c-a6cd-4fd6-9b6f-042c7db99a73",
   "metadata": {},
   "outputs": [
    {
     "name": "stdout",
     "output_type": "stream",
     "text": [
      "Empty DataFrame\n",
      "Columns: [EmployeeNumber, Age, Tenure, Turnover, HourlyRate, HoursWeekly, CompensationType, AnnualSalary, DrivingCommuterDistance, JobRoleArea, Gender, MaritalStatus, NumCompaniesPreviouslyWorked, AnnualProfessionalDevHrs, PaycheckMethod, TextMessageOptIn]\n",
      "Index: []\n"
     ]
    }
   ],
   "source": [
    "filtered_df = df[df['NumCompaniesPreviouslyWorked'] == 0]\n",
    "print(filtered_df)"
   ]
  },
  {
   "cell_type": "code",
   "execution_count": 64,
   "id": "bd6ded0a-2543-4891-b5f2-b2339e1c320d",
   "metadata": {},
   "outputs": [
    {
     "data": {
      "text/plain": [
       "np.int64(0)"
      ]
     },
     "execution_count": 64,
     "metadata": {},
     "output_type": "execute_result"
    }
   ],
   "source": [
    "df['NumCompaniesPreviouslyWorked'] = df['NumCompaniesPreviouslyWorked'].fillna(0)\n",
    "# Check to see if there are still null values\n",
    "df['NumCompaniesPreviouslyWorked'].isna().sum()"
   ]
  },
  {
   "cell_type": "markdown",
   "id": "88b9793c-4f08-439b-b94d-6ac5d79e18af",
   "metadata": {},
   "source": [
    "- Notice how there are no values of '0' for this column\n",
    "- By default, I am assuming that a null value means that the employee did not have any annual professional development hours"
   ]
  },
  {
   "cell_type": "code",
   "execution_count": 65,
   "id": "fa933302-6de1-4854-8fa7-71bc41460efc",
   "metadata": {},
   "outputs": [
    {
     "name": "stdout",
     "output_type": "stream",
     "text": [
      "Empty DataFrame\n",
      "Columns: [EmployeeNumber, Age, Tenure, Turnover, HourlyRate, HoursWeekly, CompensationType, AnnualSalary, DrivingCommuterDistance, JobRoleArea, Gender, MaritalStatus, NumCompaniesPreviouslyWorked, AnnualProfessionalDevHrs, PaycheckMethod, TextMessageOptIn]\n",
      "Index: []\n"
     ]
    }
   ],
   "source": [
    "filtered_df = df[df['AnnualProfessionalDevHrs'] == 0]\n",
    "print(filtered_df)"
   ]
  },
  {
   "cell_type": "code",
   "execution_count": 66,
   "id": "dd0c2b86-d1d1-4224-9934-0d8463008116",
   "metadata": {},
   "outputs": [
    {
     "data": {
      "text/plain": [
       "np.int64(0)"
      ]
     },
     "execution_count": 66,
     "metadata": {},
     "output_type": "execute_result"
    }
   ],
   "source": [
    "df['AnnualProfessionalDevHrs'] = df['AnnualProfessionalDevHrs'].fillna(0)\n",
    "# Check to see if there are still null values\n",
    "df['AnnualProfessionalDevHrs'].isna().sum()"
   ]
  },
  {
   "cell_type": "markdown",
   "id": "9ecfc7d5-71b0-4c27-adaf-b0ca7c696f19",
   "metadata": {},
   "source": [
    "By default, I'm assuming if the value is null, then the employee did not opt in to text messages"
   ]
  },
  {
   "cell_type": "code",
   "execution_count": 67,
   "id": "7b9227e1-3b45-40b8-8a3b-59d95ea16365",
   "metadata": {},
   "outputs": [
    {
     "data": {
      "text/plain": [
       "np.int64(0)"
      ]
     },
     "execution_count": 67,
     "metadata": {},
     "output_type": "execute_result"
    }
   ],
   "source": [
    "df['TextMessageOptIn'] = df['TextMessageOptIn'].fillna('No')\n",
    "df['TextMessageOptIn'].isna().sum()"
   ]
  },
  {
   "cell_type": "code",
   "execution_count": 68,
   "id": "88e8bb2b-53b4-433c-b9e9-5ad7f367731c",
   "metadata": {},
   "outputs": [
    {
     "data": {
      "text/plain": [
       "EmployeeNumber                  0\n",
       "Age                             0\n",
       "Tenure                          0\n",
       "Turnover                        0\n",
       "HourlyRate                      0\n",
       "HoursWeekly                     0\n",
       "CompensationType                0\n",
       "AnnualSalary                    0\n",
       "DrivingCommuterDistance         0\n",
       "JobRoleArea                     0\n",
       "Gender                          0\n",
       "MaritalStatus                   0\n",
       "NumCompaniesPreviouslyWorked    0\n",
       "AnnualProfessionalDevHrs        0\n",
       "PaycheckMethod                  0\n",
       "TextMessageOptIn                0\n",
       "dtype: int64"
      ]
     },
     "execution_count": 68,
     "metadata": {},
     "output_type": "execute_result"
    }
   ],
   "source": [
    "df.isna().sum()"
   ]
  },
  {
   "cell_type": "markdown",
   "id": "adfd31cb-4162-4509-96ba-1cf0e5ecdd7d",
   "metadata": {},
   "source": [
    "### Fixing Inconsistencies and Formatting Errors\n",
    "- Fill in negative values of driving distance with the median value\n",
    "- Calculate the correct annual salary amount for the employees based on the hourly rate and hours weekly, and fix all the values where the values didn't match up\n",
    "- Fix the category names to be the same"
   ]
  },
  {
   "cell_type": "code",
   "execution_count": 69,
   "id": "cb13bcc7-ffe9-4084-9bed-6a0a1cd2d910",
   "metadata": {},
   "outputs": [],
   "source": [
    "mask = df['DrivingCommuterDistance'] < 0\n",
    "df.loc[mask, 'DrivingCommuterDistance'] = df['DrivingCommuterDistance'].median()"
   ]
  },
  {
   "cell_type": "code",
   "execution_count": 70,
   "id": "fa978873-43c4-478c-8edd-842ac59d3bbf",
   "metadata": {},
   "outputs": [
    {
     "name": "stdout",
     "output_type": "stream",
     "text": [
      "2122\n",
      "       AnnualSalary  totalAmount\n",
      "4          284641.6     184641.6\n",
      "5          284641.6     184641.6\n",
      "16         284080.0     184080.0\n",
      "17         284080.0     184080.0\n",
      "22         281417.6     181417.6\n",
      "...             ...          ...\n",
      "10085       64288.8      64188.8\n",
      "10086       40955.2      70075.2\n",
      "10087      337745.6     197745.6\n",
      "10094      333544.0     193544.0\n",
      "10097       37960.0      58760.0\n",
      "\n",
      "[2122 rows x 2 columns]\n"
     ]
    }
   ],
   "source": [
    "df['totalAmount'] = df['HourlyRate'] * df['HoursWeekly'] * 52\n",
    "\n",
    "mask = df['AnnualSalary'] != round(df['totalAmount'], 2)\n",
    "\n",
    "print(len(df[mask]))\n",
    "print(df.loc[mask, ['AnnualSalary', 'totalAmount']])\n",
    "df.loc[mask, 'AnnualSalary'] = df.loc[mask, 'HourlyRate'] * 52 * df.loc[mask, 'HoursWeekly']\n"
   ]
  },
  {
   "cell_type": "code",
   "execution_count": 71,
   "id": "c9817957-35d6-4eec-a4f1-79d4a565a1ef",
   "metadata": {},
   "outputs": [
    {
     "name": "stdout",
     "output_type": "stream",
     "text": [
      "Empty DataFrame\n",
      "Columns: [AnnualSalary, totalAmount]\n",
      "Index: []\n"
     ]
    }
   ],
   "source": [
    "mask = round(df['AnnualSalary'],2) != round(df['totalAmount'], 2)\n",
    "print(df.loc[mask, ['AnnualSalary', 'totalAmount']])\n",
    "df = df.drop(columns=['totalAmount'])"
   ]
  },
  {
   "cell_type": "code",
   "execution_count": 72,
   "id": "df26960c-a8fe-4a2e-a8b8-aaf734299411",
   "metadata": {},
   "outputs": [],
   "source": [
    "df['JobRoleArea'] = df['JobRoleArea'].replace({\n",
    "    'Human Resources': 'HumanResources',\n",
    "    'HumanResources': 'HumanResources',\n",
    "    'Human_Resources': 'HumanResources'\n",
    "})\n",
    "\n",
    "df['JobRoleArea'] = df['JobRoleArea'].replace({\n",
    "    'Information Technology': 'InformationTechnology',\n",
    "    'InformationTechnology': 'InformationTechnology',\n",
    "    'Information_Technology': 'InformationTechnology'\n",
    "})"
   ]
  },
  {
   "cell_type": "code",
   "execution_count": 73,
   "id": "f3579eeb-f4e2-4ba3-b4a8-3a28180fe522",
   "metadata": {},
   "outputs": [
    {
     "data": {
      "text/plain": [
       "JobRoleArea\n",
       "Research                 2005\n",
       "Sales                    1988\n",
       "Marketing                1093\n",
       "Manufacturing            1031\n",
       "Laboratory               1007\n",
       "Healthcare               1002\n",
       "HumanResources            995\n",
       "InformationTechnology     979\n",
       "Name: count, dtype: int64"
      ]
     },
     "execution_count": 73,
     "metadata": {},
     "output_type": "execute_result"
    }
   ],
   "source": [
    "df['JobRoleArea'].value_counts()"
   ]
  },
  {
   "cell_type": "code",
   "execution_count": 74,
   "id": "9e9f2ae5-3555-47c7-931c-ef14a1182835",
   "metadata": {},
   "outputs": [],
   "source": [
    "df['PaycheckMethod'] = df['PaycheckMethod'].replace({\n",
    "    'Mail Check': 'MailedCheck',\n",
    "    'Mailed Check': 'MailedCheck',\n",
    "    'Mail_Check': 'MailedCheck',\n",
    "    'MailedCheck': 'MailedCheck'\n",
    "})\n",
    "\n",
    "df['PaycheckMethod'] = df['PaycheckMethod'].replace({\n",
    "    'DirectDeposit': 'DirectDeposit',\n",
    "    'Direct_Deposit': 'DirectDeposit',\n",
    "    'Direct Deposit': 'DirectDeposit'\n",
    "})"
   ]
  },
  {
   "cell_type": "code",
   "execution_count": 35,
   "id": "89ada538-2e81-463d-918e-115f8d1a8da3",
   "metadata": {},
   "outputs": [
    {
     "data": {
      "text/plain": [
       "PaycheckMethod\n",
       "MailedCheck      7938\n",
       "DirectDeposit    2162\n",
       "Name: count, dtype: int64"
      ]
     },
     "execution_count": 35,
     "metadata": {},
     "output_type": "execute_result"
    }
   ],
   "source": [
    "df['PaycheckMethod'].value_counts()"
   ]
  },
  {
   "cell_type": "markdown",
   "id": "abb03d41-ea49-496b-a14c-9e740a141f59",
   "metadata": {},
   "source": [
    "### Fixing Outliers"
   ]
  },
  {
   "cell_type": "code",
   "execution_count": 75,
   "id": "93c1b9eb-53cd-45c2-b431-258ced0005b2",
   "metadata": {},
   "outputs": [
    {
     "name": "stdout",
     "output_type": "stream",
     "text": [
      "287323.4\n"
     ]
    }
   ],
   "source": [
    "Q1 = df['AnnualSalary'].quantile(0.25) \n",
    "\n",
    "Q3 = df['AnnualSalary'].quantile(0.75) \n",
    "IQR = Q3 - Q1\n",
    "upper_threshold = Q3 + 1.5 * IQR\n",
    "print(upper_threshold)"
   ]
  },
  {
   "cell_type": "code",
   "execution_count": 76,
   "id": "23216355-e255-4511-8971-a90f68c42526",
   "metadata": {},
   "outputs": [],
   "source": [
    "mask = df['AnnualSalary'] > 287323.4\n",
    "df.loc[mask, 'AnnualSalary'] = df.loc[mask, 'HourlyRate'] * 52 * df.loc[mask, 'HoursWeekly']\n"
   ]
  },
  {
   "cell_type": "code",
   "execution_count": 77,
   "id": "2345a230-3914-4139-a813-26878f25f776",
   "metadata": {},
   "outputs": [
    {
     "name": "stdout",
     "output_type": "stream",
     "text": [
      "Empty DataFrame\n",
      "Columns: [EmployeeNumber, Age, Tenure, Turnover, HourlyRate, HoursWeekly, CompensationType, AnnualSalary, DrivingCommuterDistance, JobRoleArea, Gender, MaritalStatus, NumCompaniesPreviouslyWorked, AnnualProfessionalDevHrs, PaycheckMethod, TextMessageOptIn]\n",
      "Index: []\n"
     ]
    }
   ],
   "source": [
    "outliers = df[df['AnnualSalary'] > upper_threshold]\n",
    "print(outliers)"
   ]
  },
  {
   "cell_type": "code",
   "execution_count": 78,
   "id": "8ce4ac76-2837-4a91-a312-5819c3353f80",
   "metadata": {},
   "outputs": [
    {
     "name": "stdout",
     "output_type": "stream",
     "text": [
      "6\n"
     ]
    }
   ],
   "source": [
    "filtered = df[df['DrivingCommuterDistance'] > 800]\n",
    "print(len(filtered))"
   ]
  },
  {
   "cell_type": "code",
   "execution_count": 79,
   "id": "7b80606e-6708-47f2-ac6a-108e98067779",
   "metadata": {},
   "outputs": [],
   "source": [
    "median = df['DrivingCommuterDistance'].median()\n",
    "\n",
    "mask = df['DrivingCommuterDistance'] > 800\n",
    "\n",
    "df.loc[mask, 'DrivingCommuterDistance'] = median"
   ]
  },
  {
   "cell_type": "code",
   "execution_count": 80,
   "id": "147cb8d6-3f04-4f8a-a416-11e33a2301a1",
   "metadata": {},
   "outputs": [
    {
     "name": "stdout",
     "output_type": "stream",
     "text": [
      "0\n"
     ]
    }
   ],
   "source": [
    "filtered = df[df['DrivingCommuterDistance'] > 800]\n",
    "print(len(filtered))"
   ]
  },
  {
   "cell_type": "markdown",
   "id": "4dcaad35-c1c6-49e9-b124-1da49b54800b",
   "metadata": {},
   "source": [
    "### Save Cleaned DF to CSV"
   ]
  },
  {
   "cell_type": "code",
   "execution_count": 81,
   "id": "90bb1673-538d-41ea-8e75-248b96265865",
   "metadata": {},
   "outputs": [],
   "source": [
    "df.to_csv('cleaned_df.csv', index=False)"
   ]
  },
  {
   "cell_type": "code",
   "execution_count": null,
   "id": "b815a819-d6be-486c-bbe6-0a82c6a82ad1",
   "metadata": {},
   "outputs": [],
   "source": []
  }
 ],
 "metadata": {
  "kernelspec": {
   "display_name": "Python [conda env:base] *",
   "language": "python",
   "name": "conda-base-py"
  },
  "language_info": {
   "codemirror_mode": {
    "name": "ipython",
    "version": 3
   },
   "file_extension": ".py",
   "mimetype": "text/x-python",
   "name": "python",
   "nbconvert_exporter": "python",
   "pygments_lexer": "ipython3",
   "version": "3.13.5"
  }
 },
 "nbformat": 4,
 "nbformat_minor": 5
}
